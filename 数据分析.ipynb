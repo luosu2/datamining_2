{
 "cells": [
  {
   "cell_type": "markdown",
   "source": [
    "数据集：Microsoft 资讯推荐 https://learn.microsoft.com/zh-cn/azure/open-datasets/dataset-microsoft-news?tabs=azureml-opendatasets\n",
    "获取数据集"
   ],
   "metadata": {
    "collapsed": false
   },
   "id": "d0db850d7a5a115d"
  },
  {
   "cell_type": "code",
   "outputs": [],
   "source": [
    "import os\n",
    "import tempfile\n",
    "import shutil\n",
    "import urllib\n",
    "import zipfile\n",
    "import pandas as pd\n",
    "\n",
    "# Temporary folder for data we need during execution of this notebook (we'll clean up\n",
    "# at the end, we promise)\n",
    "temp_dir = os.path.join(tempfile.gettempdir(), 'mind')\n",
    "os.makedirs(temp_dir, exist_ok=True)\n",
    "\n",
    "# The dataset is split into training and validation set, each with a large and small version.\n",
    "# The format of the four files are the same.\n",
    "# For demonstration purpose, we will use small version validation set only.\n",
    "base_url = 'https://mind201910small.blob.core.windows.net/release'\n",
    "training_small_url = f'{base_url}/MINDsmall_train.zip'\n",
    "validation_small_url = f'{base_url}/MINDsmall_dev.zip'\n",
    "training_large_url = f'{base_url}/MINDlarge_train.zip'\n",
    "validation_large_url = f'{base_url}/MINDlarge_dev.zip'\n",
    "def download_url(url,\n",
    "                 destination_filename=None,\n",
    "                 progress_updater=None,\n",
    "                 force_download=False,\n",
    "                 verbose=True):\n",
    "    \"\"\"\n",
    "    Download a URL to a temporary file\n",
    "    \"\"\"\n",
    "    if not verbose:\n",
    "        progress_updater = None\n",
    "    # This is not intended to guarantee uniqueness, we just know it happens to guarantee\n",
    "    # uniqueness for this application.\n",
    "    if destination_filename is None:\n",
    "        url_as_filename = url.replace('://', '_').replace('/', '_')\n",
    "        destination_filename = \\\n",
    "            os.path.join(temp_dir,url_as_filename)\n",
    "    if (not force_download) and (os.path.isfile(destination_filename)):\n",
    "        if verbose:\n",
    "            print('Bypassing download of already-downloaded file {}'.format(\n",
    "                os.path.basename(url)))\n",
    "        return destination_filename\n",
    "    if verbose:\n",
    "        print('Downloading file {} to {}'.format(os.path.basename(url),\n",
    "                                                 destination_filename),\n",
    "              end='')\n",
    "    urllib.request.urlretrieve(url, destination_filename, progress_updater)\n",
    "    assert (os.path.isfile(destination_filename))\n",
    "    nBytes = os.path.getsize(destination_filename)\n",
    "    if verbose:\n",
    "        print('...done, {} bytes.'.format(nBytes))\n",
    "    return destination_filename"
   ],
   "metadata": {
    "collapsed": false
   },
   "id": "8b8d7d734cf351eb",
   "execution_count": null
  },
  {
   "cell_type": "markdown",
   "source": [
    "下载并提取文件"
   ],
   "metadata": {
    "collapsed": false
   },
   "id": "d651b9b0c4de0a73"
  },
  {
   "cell_type": "code",
   "outputs": [],
   "source": [
    "\n",
    "# For demonstration purpose, we will use small version validation set only.\n",
    "# This file is about 30MB.\n",
    "zip_path = download_url(validation_small_url, verbose=True)\n",
    "with zipfile.ZipFile(zip_path, 'r') as zip_ref:\n",
    "    zip_ref.extractall(temp_dir)\n",
    "\n",
    "os.listdir(temp_dir)"
   ],
   "metadata": {
    "collapsed": false,
    "ExecuteTime": {
     "end_time": "2024-05-05T10:23:49.745093Z",
     "start_time": "2024-05-05T10:23:30.436563Z"
    }
   },
   "id": "f2f686ad2df999d9",
   "execution_count": 1
  },
  {
   "cell_type": "markdown",
   "source": [
    "使用 Pandas 读取文件"
   ],
   "metadata": {
    "collapsed": false
   },
   "id": "6623d9ab5fb9b8bb"
  },
  {
   "cell_type": "code",
   "outputs": [],
   "source": [
    "# The behaviors.tsv file contains the impression logs and users' news click histories. \n",
    "# It has 5 columns divided by the tab symbol:\n",
    "# - Impression ID. The ID of an impression.\n",
    "# - User ID. The anonymous ID of a user.\n",
    "# - Time. The impression time with format \"MM/DD/YYYY HH:MM:SS AM/PM\".\n",
    "# - History. The news click history (ID list of clicked news) of this user before this impression.\n",
    "# - Impressions. List of news displayed in this impression and user's click behaviors on them (1 for click and 0 for non-click).\n",
    "behaviors_path = os.path.join(temp_dir, 'behaviors.tsv')\n",
    "pd.read_table(\n",
    "    behaviors_path,\n",
    "    header=None,\n",
    "    names=['impression_id', 'user_id', 'time', 'history', 'impressions'])\n",
    "# The news.tsv file contains the detailed information of news articles involved in the behaviors.tsv file.\n",
    "# It has 7 columns, which are divided by the tab symbol:\n",
    "# - News ID\n",
    "# - Category\n",
    "# - Subcategory\n",
    "# - Title\n",
    "# - Abstract\n",
    "# - URL\n",
    "# - Title Entities (entities contained in the title of this news)\n",
    "# - Abstract Entities (entities contained in the abstract of this news)\n",
    "news_path = os.path.join(temp_dir, 'news.tsv')\n",
    "pd.read_table(news_path,\n",
    "              header=None,\n",
    "              names=[\n",
    "                  'id', 'category', 'subcategory', 'title', 'abstract', 'url',\n",
    "                  'title_entities', 'abstract_entities'\n",
    "              ])"
   ],
   "metadata": {
    "collapsed": false
   },
   "id": "747cbadd70d440e3"
  }
 ],
 "metadata": {
  "kernelspec": {
   "display_name": "Python 3",
   "language": "python",
   "name": "python3"
  },
  "language_info": {
   "codemirror_mode": {
    "name": "ipython",
    "version": 2
   },
   "file_extension": ".py",
   "mimetype": "text/x-python",
   "name": "python",
   "nbconvert_exporter": "python",
   "pygments_lexer": "ipython2",
   "version": "2.7.6"
  }
 },
 "nbformat": 4,
 "nbformat_minor": 5
}
