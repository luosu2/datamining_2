{
 "cells": [
  {
   "cell_type": "markdown",
   "source": [
    "数据集：Microsoft 资讯推荐 https://learn.microsoft.com/zh-cn/azure/open-datasets/dataset-microsoft-news?tabs=azureml-opendatasets\n",
    "获取数据集"
   ],
   "metadata": {
    "collapsed": false
   },
   "id": "d0db850d7a5a115d"
  },
  {
   "cell_type": "code",
   "outputs": [],
   "source": [
    "import os\n",
    "import tempfile\n",
    "import shutil\n",
    "import urllib\n",
    "import zipfile\n",
    "import pandas as pd\n",
    "\n",
    "# Temporary folder for data we need during execution of this notebook (we'll clean up\n",
    "# at the end, we promise)\n",
    "temp_dir = os.path.join(tempfile.gettempdir(), 'mind')\n",
    "os.makedirs(temp_dir, exist_ok=True)\n",
    "\n",
    "# The dataset is split into training and validation set, each with a large and small version.\n",
    "# The format of the four files are the same.\n",
    "# For demonstration purpose, we will use small version validation set only.\n",
    "base_url = 'https://mind201910small.blob.core.windows.net/release'\n",
    "training_small_url = f'{base_url}/MINDsmall_train.zip'\n",
    "validation_small_url = f'{base_url}/MINDsmall_dev.zip'\n",
    "training_large_url = f'{base_url}/MINDlarge_train.zip'\n",
    "validation_large_url = f'{base_url}/MINDlarge_dev.zip'\n",
    "def download_url(url,\n",
    "                 destination_filename=None,\n",
    "                 progress_updater=None,\n",
    "                 force_download=False,\n",
    "                 verbose=True):\n",
    "    \"\"\"\n",
    "    Download a URL to a temporary file\n",
    "    \"\"\"\n",
    "    if not verbose:\n",
    "        progress_updater = None\n",
    "    # This is not intended to guarantee uniqueness, we just know it happens to guarantee\n",
    "    # uniqueness for this application.\n",
    "    if destination_filename is None:\n",
    "        url_as_filename = url.replace('://', '_').replace('/', '_')\n",
    "        destination_filename = \\\n",
    "            os.path.join(temp_dir,url_as_filename)\n",
    "    if (not force_download) and (os.path.isfile(destination_filename)):\n",
    "        if verbose:\n",
    "            print('Bypassing download of already-downloaded file {}'.format(\n",
    "                os.path.basename(url)))\n",
    "        return destination_filename\n",
    "    if verbose:\n",
    "        print('Downloading file {} to {}'.format(os.path.basename(url),\n",
    "                                                 destination_filename),\n",
    "              end='')\n",
    "    urllib.request.urlretrieve(url, destination_filename, progress_updater)\n",
    "    assert (os.path.isfile(destination_filename))\n",
    "    nBytes = os.path.getsize(destination_filename)\n",
    "    if verbose:\n",
    "        print('...done, {} bytes.'.format(nBytes))\n",
    "    return destination_filename"
   ],
   "metadata": {
    "collapsed": false,
    "ExecuteTime": {
     "end_time": "2024-05-05T13:36:04.123615Z",
     "start_time": "2024-05-05T13:36:04.108604Z"
    }
   },
   "id": "8b8d7d734cf351eb",
   "execution_count": 22
  },
  {
   "cell_type": "markdown",
   "source": [
    "下载并提取文件"
   ],
   "metadata": {
    "collapsed": false
   },
   "id": "d651b9b0c4de0a73"
  },
  {
   "cell_type": "code",
   "outputs": [
    {
     "name": "stdout",
     "output_type": "stream",
     "text": [
      "Downloading file MINDsmall_dev.zip to C:\\Users\\3647\\AppData\\Local\\Temp\\mind\\https_mind201910small.blob.core.windows.net_release_MINDsmall_dev.zip...done, 30945572 bytes.\n"
     ]
    },
    {
     "data": {
      "text/plain": "['behaviors.tsv',\n 'entity_embedding.vec',\n 'https_mind201910small.blob.core.windows.net_release_MINDsmall_dev.zip',\n 'news.tsv',\n 'relation_embedding.vec']"
     },
     "execution_count": 23,
     "metadata": {},
     "output_type": "execute_result"
    }
   ],
   "source": [
    "\n",
    "# For demonstration purpose, we will use small version validation set only.\n",
    "# This file is about 30MB.\n",
    "zip_path = download_url(validation_small_url, verbose=True)\n",
    "with zipfile.ZipFile(zip_path, 'r') as zip_ref:\n",
    "    zip_ref.extractall(temp_dir)\n",
    "\n",
    "os.listdir(temp_dir)"
   ],
   "metadata": {
    "collapsed": false,
    "ExecuteTime": {
     "end_time": "2024-05-05T13:36:15.401632Z",
     "start_time": "2024-05-05T13:36:04.266234Z"
    }
   },
   "id": "f2f686ad2df999d9",
   "execution_count": 23
  },
  {
   "cell_type": "markdown",
   "source": [
    "使用 Pandas 读取文件"
   ],
   "metadata": {
    "collapsed": false
   },
   "id": "6623d9ab5fb9b8bb"
  },
  {
   "cell_type": "code",
   "outputs": [],
   "source": [
    "# The behaviors.tsv file contains the impression logs and users' news click histories. \n",
    "# It has 5 columns divided by the tab symbol:\n",
    "# - Impression ID. The ID of an impression.\n",
    "# - User ID. The anonymous ID of a user.\n",
    "# - Time. The impression time with format \"MM/DD/YYYY HH:MM:SS AM/PM\".\n",
    "# - History. The news click history (ID list of clicked news) of this user before this impression.\n",
    "# - Impressions. List of news displayed in this impression and user's click behaviors on them (1 for click and 0 for non-click).\n",
    "behaviors_path = os.path.join(temp_dir, 'behaviors.tsv')\n",
    "behavior_df=pd.read_table(\n",
    "    behaviors_path,\n",
    "    header=None,\n",
    "    names=['impression_id', 'user_id', 'time', 'history', 'impressions'])\n",
    "# The news.tsv file contains the detailed information of news articles involved in the behaviors.tsv file.\n",
    "# It has 7 columns, which are divided by the tab symbol:\n",
    "# - News ID\n",
    "# - Category\n",
    "# - Subcategory\n",
    "# - Title\n",
    "# - Abstract\n",
    "# - URL\n",
    "# - Title Entities (entities contained in the title of this news)\n",
    "# - Abstract Entities (entities contained in the abstract of this news)\n",
    "news_path = os.path.join(temp_dir, 'news.tsv')\n",
    "news_df=pd.read_table(news_path,\n",
    "              header=None,\n",
    "              names=[\n",
    "                  'id', 'category', 'subcategory', 'title', 'abstract', 'url',\n",
    "                  'title_entities', 'abstract_entities'\n",
    "              ])\n",
    "shutil.rmtree(temp_dir)"
   ],
   "metadata": {
    "collapsed": false,
    "ExecuteTime": {
     "end_time": "2024-05-05T13:36:16.961384Z",
     "start_time": "2024-05-05T13:36:15.405615Z"
    }
   },
   "id": "747cbadd70d440e3",
   "execution_count": 24
  },
  {
   "cell_type": "markdown",
   "source": [
    "# 数据集1:用户行为数据集\n",
    "频繁模式挖掘:"
   ],
   "metadata": {
    "collapsed": false
   },
   "id": "882736441771dc6a"
  },
  {
   "cell_type": "code",
   "outputs": [
    {
     "name": "stdout",
     "output_type": "stream",
     "text": [
      "Frequent Itemsets:\n",
      "(1, {('N14637-0 N20036-1',): 13, ('N36779-1 N20036-0 N35216-0 N23513-0',): 10, ('N24802-0 N29862-1',): 211, ('N36779-0 N20036-1',): 678, ('N20036-0 N36779-1',): 197, ('N28640-0 N512-1',): 6, ('N20036-1 N36779-0',): 655, ('N29862-1 N24802-0',): 193, ('N24802-1 N29862-0',): 86, ('N53572-1 N37352-0',): 27, ('N4667-0 N28640-1',): 26, ('N29862-1 N53572-0',): 93, ('N5472-0 N36779-1 N29379-0 N20036-0',): 7, ('N29490-0 N20036-1',): 20, ('N36779-1 N20036-0',): 179, ('N56080-0 N28640-1',): 24, ('N29862-0 N24802-1',): 94, ('N45057-1 N60762-0',): 21, ('N42767-0 N20036-0 N32536-0 N36779-1',): 9, ('N20036-0 N36779-1 N35216-0 N23513-0',): 9, ('N32536-0 N42767-0 N36779-1 N20036-0',): 11, ('N23513-0 N35216-0 N20036-0 N36779-1',): 9, ('N42767-0 N32536-0 N20036-0 N36779-1',): 9, ('N53572-0 N29862-1',): 75, ('N31958-0 N20036-0 N23513-0 N36779-1',): 7, ('N20036-1 N53572-0',): 38, ('N53572-0 N37352-1',): 94, ('N60762-1 N24802-0',): 7, ('N54562-0 N30598-1',): 32, ('N20036-0 N36779-1 N23513-0 N35216-0',): 10, ('N31958-0 N23513-0 N36779-1 N20036-0',): 7, ('N42515-0 N45523-1',): 7, ('N18311-0 N28640-1',): 16, ('N23513-0 N20036-0 N35216-0 N36779-1',): 10, ('N28640-1 N18311-0',): 11, ('N36779-1 N32536-0 N42767-0 N20036-0',): 11, ('N36779-0 N42767-0 N32536-0 N20036-1',): 5, ('N32536-0 N20036-1 N42767-0 N36779-0',): 6, ('N37352-0 N53572-1',): 22, ('N20036-1 N35216-0 N23513-0 N36779-0',): 7, ('N36779-0 N32536-0 N42767-0 N20036-1',): 5, ('N23513-0 N36779-1 N20036-0 N31958-0',): 9, ('N32536-0 N20036-0 N36779-1 N42767-0',): 12, ('N20036-0 N32536-0 N42767-0 N36779-1',): 15, ('N18311-0 N14802-1',): 15, ('N512-0 N28640-1',): 100, ('N36779-1 N20036-0 N23513-0 N35216-0',): 14, ('N23513-0 N36779-1 N20036-0 N35216-0',): 12, ('N24802-1 N53572-0 N29862-0 N29091-0',): 6, ('N20036-1 N14637-0',): 10, ('N53572-0 N20036-1',): 32, ('N20036-0 N23513-0 N35216-0 N36779-1',): 11, ('N60762-0 N512-1',): 19, ('N53572-1 N29862-0',): 24, ('N37352-1 N53572-0',): 87, ('N32536-0 N20036-0 N42767-0 N36779-1',): 10, ('N20036-1 N29490-0',): 17, ('N32536-0 N20036-1 N36779-0 N42767-0',): 13, ('N42767-0 N20036-1 N32536-0 N36779-0',): 6, ('N28640-1 N512-0',): 95, ('N42767-0 N36779-1 N20036-0 N32536-0',): 14, ('N512-1 N60762-0',): 20, ('N28640-0 N56080-1',): 8, ('N5940-0 N13347-1',): 7, ('N36779-0 N20036-1 N23513-0 N35216-0',): 6, ('N36779-1 N20036-0 N42767-0 N32536-0',): 17, ('N14802-1 N56080-0',): 6, ('N42767-0 N36779-0 N32536-0 N20036-1',): 7, ('N29091-0 N53572-0 N29862-0 N24802-1',): 5, ('N23513-0 N31958-0 N36779-1 N20036-0',): 12, ('N36779-0 N20036-1 N35216-0 N23513-0',): 6, ('N512-1 N28640-0',): 9, ('N53572-0 N6400-0 N29091-0 N24802-1 N29862-0',): 5, ('N60762-0 N45057-1',): 16, ('N42767-0 N32536-0 N36779-1 N20036-0',): 10, ('N33176-0 N29862-1',): 9, ('N23513-0 N36779-1 N35216-0 N20036-0',): 14, ('N32536-0 N36779-1 N42767-0 N20036-0',): 17, ('N36779-0 N20036-1 N42767-0 N32536-0',): 5, ('N29091-0 N53572-0 N6400-0 N24802-1 N29862-0',): 5, ('N32536-0 N36779-1 N20036-0 N42767-0',): 16, ('N53572-0 N29862-0 N29091-0 N24802-1 N6400-0',): 5, ('N30598-1 N54562-0',): 27, ('N29862-0 N53572-1',): 28, ('N36779-1 N32536-0 N20036-0 N42767-0',): 14, ('N36779-1 N23513-0 N35216-0 N20036-0',): 14, ('N31958-0 N36779-1 N23513-0 N20036-0',): 5, ('N20036-0 N36779-1 N23513-0 N31958-0',): 5, ('N28640-1 N31632-0',): 5, ('N35216-0 N23513-0 N20036-0 N36779-1',): 10, ('N28640-1 N4667-0',): 18, ('N20036-0 N23513-0 N36779-1',): 5, ('N53572-1 N20036-0',): 9, ('N23513-0 N20036-0 N31958-0 N36779-1',): 8, ('N36779-1 N35216-0 N23513-0 N20036-0',): 11, ('N28640-1 N56080-0',): 21, ('N20036-0 N23513-0 N36779-1 N31958-0',): 5, ('N23513-0 N20036-0 N36779-1 N35216-0',): 13, ('N32536-0 N36779-0 N20036-1 N42767-0',): 8, ('N20036-0 N23513-0 N36779-1 N35216-0',): 9, ('N54562-1 N30598-0',): 6, ('N35216-0 N20036-0 N23513-0 N36779-1',): 10, ('N20036-0 N36779-1 N23513-0',): 5, ('N35216-0 N23513-0 N36779-1 N20036-0',): 11, ('N20036-0 N5472-0 N36779-1 N23513-0',): 5, ('N35216-0 N36779-1 N23513-0 N20036-0',): 14, ('N58251-0 N50775-0 N53572-1 N5472-0 N37352-0',): 5, ('N53572-0 N29862-0 N29091-0 N24802-1',): 6, ('N33397-0 N60939-1',): 5, ('N20036-1 N53754-0',): 5, ('N35216-0 N36779-1 N20036-0 N23513-0',): 10, ('N29862-0 N24802-1 N53572-0 N29091-0',): 8, ('N20036-0 N53572-1',): 8, ('N36779-1 N23513-0 N31958-0 N20036-0',): 5, ('N20036-0 N42767-0 N36779-1 N32536-0',): 19, ('N20036-0 N23513-0 N36779-1 N5472-0',): 5, ('N20036-1 N42767-0 N36779-0 N32536-0',): 7, ('N24802-1 N29091-0 N53572-0 N29862-0',): 7, ('N42767-0 N20036-0 N36779-1 N32536-0',): 12, ('N36779-1 N23513-0 N20036-0 N32536-0',): 5, ('N23513-0 N20036-1 N36779-0 N31958-0',): 6, ('N36779-0 N32536-0 N20036-1 N42767-0',): 5, ('N20036-0 N31958-0 N23513-0 N36779-1',): 6, ('N20036-0 N42767-0 N32536-0 N36779-1',): 11, ('N20036-0 N36940-0 N42767-0 N36779-1',): 5, ('N56080-0 N14802-1',): 12, ('N5940-1 N29363-0',): 5, ('N28640-1 N54562-0',): 5, ('N20036-1 N23513-0',): 7, ('N33397-1 N45612-0',): 5, ('N42767-0 N20036-1',): 6, ('N29862-1 N33176-0',): 7, ('N20036-0 N32536-0 N36779-1 N42767-0',): 11, ('N20036-0 N36779-1 N42767-0 N32536-0',): 12, ('N36779-1 N42767-0 N20036-0 N32536-0',): 13, ('N46917-1 N31503-0',): 5, ('N36779-0 N42767-0 N20036-1 N32536-0',): 5, ('N20036-1 N42767-0',): 5, ('N32536-0 N42767-0 N20036-1 N36779-0',): 5, ('N20036-0 N35216-0 N23513-0 N36779-1',): 13, ('N29091-0 N29862-0 N53572-0 N24802-1 N6400-0',): 5, ('N23513-0 N35216-0 N36779-1 N20036-0',): 13, ('N23513-0 N20036-0 N36779-1 N31958-0',): 6, ('N14802-1 N18311-0',): 7, ('N42767-0 N36779-1 N32536-0 N20036-0',): 8, ('N32536-0 N36779-1 N20036-0 N23513-0',): 5, ('N23513-0 N31958-0 N20036-0 N36779-1',): 8, ('N54562-0 N28640-1',): 7, ('N36779-1 N42767-0 N32536-0 N20036-0',): 15, ('N36779-1 N23513-0 N20036-0 N35216-0',): 11, ('N32536-0 N42767-0 N20036-0 N36779-1',): 13, ('N20036-0 N23513-0 N36779-1 N32536-0',): 6, ('N42767-0 N32536-0 N36779-0 N20036-1',): 6, ('N20036-0 N36779-1 N32536-0 N42767-0',): 10, ('N6400-0 N29862-1 N53572-0 N29091-0 N24802-0',): 6, ('N13347-1 N5940-0',): 5, ('N21679-0 N24802-1 N29862-0 N53572-0',): 5, ('N31503-0 N46917-1',): 5, ('N6400-0 N29862-0 N24802-1 N29091-0 N53572-0',): 6, ('N56080-1 N28640-0',): 6, ('N55036-0 N29862-1',): 7, ('N30598-0 N54562-1',): 5, ('N31632-0 N28640-1',): 5, ('N23513-0 N20036-0 N36779-1',): 7, ('N20036-0 N35216-0 N36779-1 N23513-0',): 5, ('N6400-0 N29862-0 N53572-0 N24802-1 N29091-0',): 5, ('N32536-0 N20036-0 N36779-1 N23513-0',): 6, ('N24802-0 N60762-1',): 5, ('N29862-0 N29091-0 N24802-1 N53572-0',): 7, ('N23513-0 N20036-1 N36779-0',): 5, ('N36779-0 N31958-0 N20036-1 N23513-0',): 5, ('N53572-0 N24802-1 N29091-0 N29862-0',): 5, ('N20036-1 N23513-0 N36779-0',): 5})\n",
      "(2, {('N20036-0 N36779-1', 'N36779-0 N20036-1'): 6, ('N20036-1 N36779-0', 'N24802-0 N29862-1'): 5, ('N20036-1 N36779-0', 'N36779-0 N20036-1'): 12})\n",
      "\n",
      "Association Rules:\n",
      "{N36779-0 N20036-1} -> {N20036-0 N36779-1} (conf: 0.009, supp: 0.000, lift: 2.246, conv: 1.005)\n",
      "{N20036-0 N36779-1} -> {N36779-0 N20036-1} (conf: 0.030, supp: 0.000, lift: 2.246, conv: 1.017)\n",
      "{N24802-0 N29862-1} -> {N20036-1 N36779-0} (conf: 0.024, supp: 0.000, lift: 1.809, conv: 1.011)\n",
      "{N20036-1 N36779-0} -> {N24802-0 N29862-1} (conf: 0.008, supp: 0.000, lift: 1.809, conv: 1.003)\n",
      "{N36779-0 N20036-1} -> {N20036-1 N36779-0} (conf: 0.018, supp: 0.000, lift: 1.351, conv: 1.005)\n",
      "{N20036-1 N36779-0} -> {N36779-0 N20036-1} (conf: 0.018, supp: 0.000, lift: 1.351, conv: 1.005)\n"
     ]
    }
   ],
   "source": [
    "from efficient_apriori import apriori\n",
    "# Convert merged data to list of lists for association rule mining\n",
    "transactions = behavior_df.groupby('user_id')['impressions'].apply(list).tolist()\n",
    "\n",
    "# Perform frequent pattern mining and generate association rules\n",
    "itemsets, rules = apriori(transactions, min_support=0.0001,  min_confidence=0.001)\n",
    "\n",
    "# Display frequent itemsets\n",
    "print(\"Frequent Itemsets:\")\n",
    "for itemset in itemsets.items():\n",
    "    print(itemset)\n",
    "\n",
    "# Display association rules\n",
    "print(\"\\nAssociation Rules:\")\n",
    "for rule in rules:\n",
    "    print(rule)"
   ],
   "metadata": {
    "collapsed": false,
    "ExecuteTime": {
     "end_time": "2024-05-05T13:36:18.577828Z",
     "start_time": "2024-05-05T13:36:16.963312Z"
    }
   },
   "id": "93306257d5aa6706",
   "execution_count": 25
  },
  {
   "cell_type": "markdown",
   "source": [
    "## 模式命名\n",
    "用户感兴趣的新闻关联模式\n",
    "## 结果分析\n",
    "当评估关联规则时，我们使用几个重要的指标来衡量规则的有效性和关联程度：\n",
    "\n",
    "1.支持度（Support）：支持度是指规则在数据集中出现的频率。支持度高表示规则在数据集中出现的频率较高。例如，如果一条规则的支持度为0.1，表示该规则适用于数据集中约10%的记录。\n",
    "2.置信度（Confidence）：置信度衡量了规则中后项在前项条件下出现的概率。置信度高表示后项在给定前项的条件下出现的概率较高。例如，如果一条规则的置信度为0.8，表示在满足前项条件的记录中，有80%的记录也同时满足后项条件。\n",
    "3.提升度（Lift）：提升度衡量了规则中后项出现的相对概率，相对于后项和前项独立出现的概率。提升度大于1表示正向关联，小于1表示负向关联，等于1表示无关联。例如，如果一条规则的提升度为1.5，表示后项在满足前项条件的记录中出现的概率是其独立出现概率的1.5倍。\n",
    "4.卡方（Chi-square）：卡方检验用于衡量观察到的规则频数与期望频数之间的差异程度。卡方值越大表示观察到的规则频数与期望频数之间的差异越显著，规则的关联性也越强。"
   ],
   "metadata": {
    "collapsed": false
   },
   "id": "b58d7a1716380bac"
  },
  {
   "cell_type": "code",
   "outputs": [
    {
     "name": "stdout",
     "output_type": "stream",
     "text": [
      "********************************\n",
      "results of package apyori\n",
      "********************************\n",
      "Empty DataFrame\n",
      "Columns: [support, confidence, lift, base, add]\n",
      "Index: []\n",
      "********************************\n",
      "results of package efficient_apyori\n",
      "********************************\n",
      "{N36779-0 N20036-1} -> {N20036-0 N36779-1} (conf: 0.009, supp: 0.000, lift: 2.246, conv: 1.005)\n",
      "{N20036-0 N36779-1} -> {N36779-0 N20036-1} (conf: 0.030, supp: 0.000, lift: 2.246, conv: 1.017)\n",
      "{N24802-0 N29862-1} -> {N20036-1 N36779-0} (conf: 0.024, supp: 0.000, lift: 1.809, conv: 1.011)\n",
      "{N20036-1 N36779-0} -> {N24802-0 N29862-1} (conf: 0.008, supp: 0.000, lift: 1.809, conv: 1.003)\n",
      "{N36779-0 N20036-1} -> {N20036-1 N36779-0} (conf: 0.018, supp: 0.000, lift: 1.351, conv: 1.005)\n",
      "{N20036-1 N36779-0} -> {N36779-0 N20036-1} (conf: 0.018, supp: 0.000, lift: 1.351, conv: 1.005)\n"
     ]
    }
   ],
   "source": [
    "ap = list(apyori.apriori(transactions, min_support=0.0001, min_confidence=0, min_lift=0))\n",
    "\n",
    "supports = []\n",
    "confidences = []\n",
    "lifts = []\n",
    "bases = []\n",
    "adds = []\n",
    "\n",
    "for r in ap:\n",
    "    for x in r.ordered_statistics:\n",
    "        supports.append(r.support)\n",
    "        confidences.append(x.confidence)\n",
    "        lifts.append(x.lift)\n",
    "        bases.append(list(x.items_base))\n",
    "        adds.append(list(x.items_add))\n",
    "\n",
    "result = pd.DataFrame({\n",
    "    'support':supports,\n",
    "    'confidence':confidences,\n",
    "    'lift':lifts,\n",
    "    'base':bases,\n",
    "    'add':adds\n",
    "})\n",
    "\n",
    "res = result[(result.lift > 0.0) & (result.support > 0.1) & (result.confidence > 0.1)]\n",
    "res = res.reset_index(drop=True)\n",
    "print('*'*32)\n",
    "print('results of package apyori')\n",
    "print('*'*32)\n",
    "print(res)\n",
    "\n",
    "print('*'*32)\n",
    "print('results of package efficient_apyori')\n",
    "print('*'*32)\n",
    "for i in range(len(rules)):\n",
    "    print(rules[i])"
   ],
   "metadata": {
    "collapsed": false,
    "ExecuteTime": {
     "end_time": "2024-05-05T13:36:18.965474Z",
     "start_time": "2024-05-05T13:36:18.580723Z"
    }
   },
   "id": "8c6ac313b403e164",
   "execution_count": 26
  },
  {
   "cell_type": "markdown",
   "source": [
    "\n",
    "尽管我们没有找到显著的强关联规则，这可能是因为数据集本身比较分散和稀疏。支持度和置信度较低的规则仍然具有一定的参考价值，特别是在构建推荐系统时。低支持度和置信度的规则可能暗示了数据中的随机性和多样性，使得寻找高度相关的规则变得具有挑战性。然而，即使规则的关联程度较弱，它们仍然可以为推荐系统提供有用的信息。\n",
    "## 可视化"
   ],
   "metadata": {
    "collapsed": false
   },
   "id": "c1a03b07c515309a"
  },
  {
   "cell_type": "code",
   "outputs": [
    {
     "data": {
      "text/plain": "<Figure size 640x480 with 1 Axes>",
      "image/png": "[encoded data removed]"
     },
     "metadata": {},
     "output_type": "display_data"
    },
    {
     "data": {
      "text/plain": "<Figure size 640x480 with 1 Axes>",
      "image/png": "[encoded data removed]"
     },
     "metadata": {},
     "output_type": "display_data"
    }
   ],
   "source": [
    "import matplotlib.pyplot as plt\n",
    "supp = []\n",
    "lift = []\n",
    "conf = []\n",
    "for i in range(len(rules)):\n",
    "    supp.append(rules[i].support)\n",
    "    lift.append(rules[i].lift)\n",
    "    conf.append(rules[i].confidence)\n",
    "plt.xlabel('support')\n",
    "plt.ylabel('lift')\n",
    "plt.scatter(supp,lift)\n",
    "plt.show()\n",
    "plt.clf()\n",
    "plt.xlabel('support')\n",
    "plt.ylabel('confidence')\n",
    "plt.scatter(supp,conf)\n",
    "plt.show()"
   ],
   "metadata": {
    "collapsed": false,
    "ExecuteTime": {
     "end_time": "2024-05-05T13:36:19.332923Z",
     "start_time": "2024-05-05T13:36:18.969457Z"
    }
   },
   "id": "67027b7d508d6237",
   "execution_count": 27
  },
  {
   "cell_type": "markdown",
   "source": [
    "# 数据集2:新闻数据集\n",
    "## 频繁模式挖掘"
   ],
   "metadata": {
    "collapsed": false
   },
   "id": "9f0c677f545da90e"
  },
  {
   "cell_type": "markdown",
   "source": [
    "import nltk\n",
    "from nltk.corpus import stopwords\n",
    "from nltk.stem import PorterStemmer\n",
    "from sklearn.feature_extraction.text import CountVectorizer\n",
    "# # Download the necessary NLTK data\n",
    "# nltk.download('punkt')\n",
    "# nltk.download('stopwords')\n",
    "\n",
    "# Initialize the stemmer\n",
    "stemmer = PorterStemmer()\n",
    "\n",
    "# Define a function to parse the JSON data and combine \"Label\" and \"Type\"\n",
    "def parse_json(row):\n",
    "    try:\n",
    "        # Tokenize the abstract\n",
    "        tokens = nltk.word_tokenize(row['abstract'])\n",
    "\n",
    "        # Remove stop words and stem the tokens\n",
    "        tokens = [stemmer.stem(token) for token in tokens if token not in stopwords.words('english')]\n",
    "\n",
    "        # Extract keywords from the stemmed tokens\n",
    "        vectorizer = CountVectorizer(max_features=5)\n",
    "        X = vectorizer.fit_transform([' '.join(tokens)])\n",
    "        keywords = vectorizer.get_feature_names_out()\n",
    "\n",
    "        # Combine keywords with the \"category\" into a DataFrame\n",
    "        return pd.DataFrame({'Keyword': keywords, 'Category': [row[\"category\"]] * len(keywords)})\n",
    "    except:\n",
    "        return pd.DataFrame()\n",
    "\n",
    "# Apply the function to the DataFrame and concatenate the results\n",
    "combined_df = pd.concat(news_df.apply(parse_json, axis=1).tolist(), ignore_index=True)\n",
    "# Convert data to list of lists for association rule mining\n",
    "transactions = combined_df.values.tolist()\n",
    "\n",
    "# Perform frequent pattern mining and generate association rules\n",
    "itemsets, rules = apriori(transactions, min_support=0.001,  min_confidence=0.1)\n",
    "\n",
    "# Display frequent itemsets\n",
    "print(\"Frequent Itemsets:\")\n",
    "for itemset in itemsets.items():\n",
    "    print(itemset)\n",
    "\n",
    "# Display association rules\n",
    "print(\"\\nAssociation Rules:\")\n",
    "for rule in rules:\n",
    "    print(rule)\n"
   ],
   "metadata": {
    "collapsed": false
   },
   "id": "3f3e96c1d0961d21"
  },
  {
   "cell_type": "markdown",
   "source": [
    "## 模式命名\n",
    "新闻关键词和类型对应模式\n",
    "## 结果分析"
   ],
   "metadata": {
    "collapsed": false
   },
   "id": "2bb8b36783d41c4b"
  },
  {
   "cell_type": "code",
   "outputs": [],
   "source": [
    "ap = list(apyori.apriori(transactions, min_support=0.0001, min_confidence=0, min_lift=0))\n",
    "\n",
    "supports = []\n",
    "confidences = []\n",
    "lifts = []\n",
    "bases = []\n",
    "adds = []\n",
    "\n",
    "for r in ap:\n",
    "    for x in r.ordered_statistics:\n",
    "        supports.append(r.support)\n",
    "        confidences.append(x.confidence)\n",
    "        lifts.append(x.lift)\n",
    "        bases.append(list(x.items_base))\n",
    "        adds.append(list(x.items_add))\n",
    "\n",
    "result = pd.DataFrame({\n",
    "    'support':supports,\n",
    "    'confidence':confidences,\n",
    "    'lift':lifts,\n",
    "    'base':bases,\n",
    "    'add':adds\n",
    "})\n",
    "\n",
    "res = result[(result.lift > 0.0) & (result.support > 0.1) & (result.confidence > 0.1)]\n",
    "res = res.reset_index(drop=True)\n",
    "print('*'*32)\n",
    "print('results of package apyori')\n",
    "print('*'*32)\n",
    "print(res)\n",
    "\n",
    "print('*'*32)\n",
    "print('results of package efficient_apyori')\n",
    "print('*'*32)\n",
    "for i in range(len(rules)):\n",
    "    print(rules[i])"
   ],
   "metadata": {
    "collapsed": false
   },
   "id": "b3c6d92f2c3759e"
  },
  {
   "cell_type": "markdown",
   "source": [
    "可以看出，我们找出了几条强关联规则。这些意味着新闻中的关键词与新闻的类别有相关性。可以对新闻分类和推荐（结合上一个数据集）提供指导。"
   ],
   "metadata": {
    "collapsed": false
   },
   "id": "eebd28f69f5d2d9"
  },
  {
   "cell_type": "markdown",
   "source": [
    "## 可视化"
   ],
   "metadata": {
    "collapsed": false
   },
   "id": "4d0d432a95043a37"
  },
  {
   "cell_type": "code",
   "outputs": [],
   "source": [
    "supp = []\n",
    "lift = []\n",
    "conf = []\n",
    "for i in range(len(rules)):\n",
    "    supp.append(rules[i].support)\n",
    "    lift.append(rules[i].lift)\n",
    "    conf.append(rules[i].confidence)\n",
    "plt.xlabel('support')\n",
    "plt.ylabel('lift')\n",
    "plt.scatter(supp,lift)\n",
    "plt.show()\n",
    "plt.clf()\n",
    "plt.xlabel('support')\n",
    "plt.ylabel('confidence')\n",
    "plt.scatter(supp,conf)\n",
    "plt.show()"
   ],
   "metadata": {
    "collapsed": false
   },
   "id": "8cd23e433d85bf8"
  }
 ],
 "metadata": {
  "kernelspec": {
   "display_name": "Python 3",
   "language": "python",
   "name": "python3"
  },
  "language_info": {
   "codemirror_mode": {
    "name": "ipython",
    "version": 2
   },
   "file_extension": ".py",
   "mimetype": "text/x-python",
   "name": "python",
   "nbconvert_exporter": "python",
   "pygments_lexer": "ipython2",
   "version": "2.7.6"
  }
 },
 "nbformat": 4,
 "nbformat_minor": 5
}
